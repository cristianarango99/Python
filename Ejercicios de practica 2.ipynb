{
 "cells": [
  {
   "cell_type": "code",
   "execution_count": 4,
   "metadata": {},
   "outputs": [
    {
     "name": "stdout",
     "output_type": "stream",
     "text": [
      "Escribe tu usuario: cristian\n",
      "Escribe un numero entero: 12\n",
      "cristian\n",
      "cristian\n",
      "cristian\n",
      "cristian\n",
      "cristian\n",
      "cristian\n",
      "cristian\n",
      "cristian\n",
      "cristian\n",
      "cristian\n",
      "cristian\n",
      "cristian\n",
      "\n"
     ]
    }
   ],
   "source": [
    "nombre = input('Escribe tu usuario: ' )\n",
    "numero = input('Escribe un numero entero: ' )\n",
    "print((nombre + \"\\n\") * int(numero))\n"
   ]
  },
  {
   "cell_type": "code",
   "execution_count": 13,
   "metadata": {},
   "outputs": [
    {
     "name": "stdout",
     "output_type": "stream",
     "text": [
      "Escribe tus nombres: cRisTian\n",
      "Escribe tus apellidos: ArAnGo\n",
      "cristianarango\n",
      "\n",
      "CRISTIANARANGO\n",
      "\n",
      "CristianArango\n",
      "\n"
     ]
    }
   ],
   "source": [
    "nombre = input('Escribe tus nombres: ')\n",
    "apellido = input('Escribe tus apellidos: ')\n",
    "\n",
    "\n",
    "print ((nombre.lower() + apellido.lower() + \"\\n\"))\n",
    "print ((nombre.upper() + apellido.upper() + \"\\n\"))\n",
    "print ((nombre.capitalize() + apellido.capitalize() + \"\\n\"))"
   ]
  },
  {
   "cell_type": "code",
   "execution_count": 22,
   "metadata": {},
   "outputs": [
    {
     "name": "stdout",
     "output_type": "stream",
     "text": [
      "Escribe tu nombre: asdasdasd\n",
      "ASDASDASDtiene9letras\n"
     ]
    }
   ],
   "source": [
    "nombre = input('Escribe tu nombre: ')\n",
    "\n",
    "print(nombre.upper() + \"tiene \" + str(len(nombre)) + \" letras\")\n",
    "\n",
    "#Len sirve para contar el numero de letras que tiene una palabra"
   ]
  },
  {
   "cell_type": "code",
   "execution_count": 34,
   "metadata": {},
   "outputs": [
    {
     "name": "stdout",
     "output_type": "stream",
     "text": [
      "Ingrese el valor: 20\n",
      "Weird\n"
     ]
    }
   ],
   "source": [
    "n = int(input())\n",
    "if n % 2 ==0:\n",
    "    if n in range(2, 6):\n",
    "        print(\"Not Weird\")\n",
    "    elif n in range(6, 21):\n",
    "        print(\"Weird\")\n",
    "    elif n > 20:\n",
    "        print(\"Not Weird\")\n",
    "else:\n",
    "    print(\"Weird\")"
   ]
  },
  {
   "cell_type": "code",
   "execution_count": 52,
   "metadata": {},
   "outputs": [
    {
     "name": "stdout",
     "output_type": "stream",
     "text": [
      "11\n",
      "11\n",
      "22\n",
      "0\n",
      "121\n"
     ]
    }
   ],
   "source": [
    "a = int(input())\n",
    "b = int(input())\n",
    "\n",
    "print ((a + b))\n",
    "print ((a - b))\n",
    "print ((a * b))"
   ]
  },
  {
   "cell_type": "code",
   "execution_count": 55,
   "metadata": {},
   "outputs": [
    {
     "name": "stdout",
     "output_type": "stream",
     "text": [
      "4\n",
      "3\n",
      "1\n",
      "1.3333333333333333\n"
     ]
    }
   ],
   "source": [
    "a = int(input())\n",
    "b = int(input())\n",
    "\n",
    "print((a // b))\n",
    "print(float(a / b))"
   ]
  },
  {
   "cell_type": "code",
   "execution_count": 78,
   "metadata": {},
   "outputs": [
    {
     "data": {
      "text/plain": [
       "25"
      ]
     },
     "execution_count": 78,
     "metadata": {},
     "output_type": "execute_result"
    }
   ],
   "source": [
    "valor = 5\n",
    "valor ** 2"
   ]
  },
  {
   "cell_type": "code",
   "execution_count": 81,
   "metadata": {},
   "outputs": [
    {
     "name": "stdout",
     "output_type": "stream",
     "text": [
      "5\n",
      "0\n",
      "1\n",
      "4\n",
      "9\n",
      "16\n"
     ]
    }
   ],
   "source": [
    "n = int(input())\n",
    "\n",
    "for i in range (n): \n",
    "    print(i ** 2)\n",
    "    \n",
    "    #N = El for toma el rango que a N se le manda\n",
    "    #For variable IN (Es para decir que la variable va desde 0 hasta N)"
   ]
  },
  {
   "cell_type": "code",
   "execution_count": null,
   "metadata": {},
   "outputs": [],
   "source": []
  }
 ],
 "metadata": {
  "kernelspec": {
   "display_name": "Python 3",
   "language": "python",
   "name": "python3"
  },
  "language_info": {
   "codemirror_mode": {
    "name": "ipython",
    "version": 3
   },
   "file_extension": ".py",
   "mimetype": "text/x-python",
   "name": "python",
   "nbconvert_exporter": "python",
   "pygments_lexer": "ipython3",
   "version": "3.8.3"
  }
 },
 "nbformat": 4,
 "nbformat_minor": 4
}
