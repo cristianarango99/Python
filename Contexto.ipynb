{
 "cells": [
  {
   "cell_type": "markdown",
   "metadata": {},
   "source": [
    "# FUNCIONES"
   ]
  },
  {
   "cell_type": "raw",
   "metadata": {},
   "source": [
    "| Operator|\tName\t       |Description                                    |\n",
    "| a + b\t  | Addition       |Sum of a and b                                 |\n",
    "| a - b\t  | Subtraction    |Difference of a and b                          |\n",
    "| a * b\t  | Multiplication |Product of a and b                             |\n",
    "| a / b\t  | True division  |Quotient of a and b                            |\n",
    "| a // b  | Floor division |Quotient of a and b, removing fractional parts |\n",
    "| a % b\t  | Modulus        |Integer remainder after division of a by b     |\n",
    "| a ** b  | Exponentiation |a raised to the power of b                     |\n",
    "| -a\t  | Negation       |The negative of a                              |\n",
    "---------------------------------------------------------------------------"
   ]
  },
  {
   "cell_type": "code",
   "execution_count": null,
   "metadata": {},
   "outputs": [],
   "source": [
    "x = 1\n",
    "y = 2\n",
    "x + y"
   ]
  },
  {
   "cell_type": "code",
   "execution_count": 17,
   "metadata": {},
   "outputs": [
    {
     "data": {
      "text/plain": [
       "1"
      ]
     },
     "execution_count": 17,
     "metadata": {},
     "output_type": "execute_result"
    }
   ],
   "source": [
    "#El código es consistente entre celdas\n",
    "x"
   ]
  },
  {
   "cell_type": "code",
   "execution_count": 10,
   "metadata": {},
   "outputs": [
    {
     "data": {
      "text/plain": [
       "3"
      ]
     },
     "execution_count": 10,
     "metadata": {},
     "output_type": "execute_result"
    }
   ],
   "source": [
    "def add_numbers(x,y):\n",
    "    return x + y\n",
    "\n",
    "add_numbers (1,2)"
   ]
  },
  {
   "cell_type": "code",
   "execution_count": null,
   "metadata": {},
   "outputs": [],
   "source": [
    "#None es lo mismo que Null\n",
    "def add_numbers(x,y,z=None):\n",
    "    if (z==None):\n",
    "        return x + y\n",
    "    else:\n",
    "        return x + y + z\n",
    "print(add_numbers(1,2,4))\n",
    "print(add_numbers(5,4))"
   ]
  },
  {
   "cell_type": "code",
   "execution_count": 16,
   "metadata": {},
   "outputs": [
    {
     "data": {
      "text/plain": [
       "5"
      ]
     },
     "execution_count": 16,
     "metadata": {},
     "output_type": "execute_result"
    }
   ],
   "source": [
    "#Asigna la función a la variable\n",
    "def add_numbers(x, y):\n",
    "    return x + y\n",
    "a = add_numbers\n",
    "a(3,2)"
   ]
  },
  {
   "cell_type": "markdown",
   "metadata": {},
   "source": [
    "# FUNCIÓN TYPE"
   ]
  },
  {
   "cell_type": "code",
   "execution_count": 18,
   "metadata": {},
   "outputs": [
    {
     "data": {
      "text/plain": [
       "str"
      ]
     },
     "execution_count": 18,
     "metadata": {},
     "output_type": "execute_result"
    }
   ],
   "source": [
    "type('String')"
   ]
  },
  {
   "cell_type": "code",
   "execution_count": 19,
   "metadata": {},
   "outputs": [
    {
     "data": {
      "text/plain": [
       "NoneType"
      ]
     },
     "execution_count": 19,
     "metadata": {},
     "output_type": "execute_result"
    }
   ],
   "source": [
    "type(None)"
   ]
  },
  {
   "cell_type": "code",
   "execution_count": 20,
   "metadata": {},
   "outputs": [
    {
     "data": {
      "text/plain": [
       "float"
      ]
     },
     "execution_count": 20,
     "metadata": {},
     "output_type": "execute_result"
    }
   ],
   "source": [
    "type(1.0)"
   ]
  },
  {
   "cell_type": "code",
   "execution_count": 21,
   "metadata": {},
   "outputs": [
    {
     "data": {
      "text/plain": [
       "int"
      ]
     },
     "execution_count": 21,
     "metadata": {},
     "output_type": "execute_result"
    }
   ],
   "source": [
    "type(1)"
   ]
  },
  {
   "cell_type": "code",
   "execution_count": 22,
   "metadata": {},
   "outputs": [
    {
     "data": {
      "text/plain": [
       "function"
      ]
     },
     "execution_count": 22,
     "metadata": {},
     "output_type": "execute_result"
    }
   ],
   "source": [
    "type(add_numbers)"
   ]
  },
  {
   "cell_type": "markdown",
   "metadata": {},
   "source": [
    "# Colecciones "
   ]
  },
  {
   "cell_type": "code",
   "execution_count": 23,
   "metadata": {},
   "outputs": [
    {
     "data": {
      "text/plain": [
       "tuple"
      ]
     },
     "execution_count": 23,
     "metadata": {},
     "output_type": "execute_result"
    }
   ],
   "source": [
    "#Tuplas\n",
    "x = (1, 'a', 2, 'b')\n",
    "type(x)"
   ]
  },
  {
   "cell_type": "code",
   "execution_count": 24,
   "metadata": {},
   "outputs": [
    {
     "data": {
      "text/plain": [
       "list"
      ]
     },
     "execution_count": 24,
     "metadata": {},
     "output_type": "execute_result"
    }
   ],
   "source": [
    "x = [1,'a',2,'b']\n",
    "type(x)"
   ]
  },
  {
   "cell_type": "code",
   "execution_count": 25,
   "metadata": {},
   "outputs": [
    {
     "name": "stdout",
     "output_type": "stream",
     "text": [
      "[1, 'a', 2, 'b', 3.3]\n"
     ]
    }
   ],
   "source": [
    "x.append(3.3)\n",
    "print(x)"
   ]
  },
  {
   "cell_type": "code",
   "execution_count": 26,
   "metadata": {},
   "outputs": [
    {
     "name": "stdout",
     "output_type": "stream",
     "text": [
      "1\n",
      "a\n",
      "2\n",
      "b\n",
      "3.3\n"
     ]
    }
   ],
   "source": [
    "#Iterando las colecciones\n",
    "for item in x:\n",
    "    print(item)"
   ]
  },
  {
   "cell_type": "code",
   "execution_count": 27,
   "metadata": {},
   "outputs": [
    {
     "name": "stdout",
     "output_type": "stream",
     "text": [
      "1\n",
      "a\n",
      "2\n",
      "b\n",
      "3.3\n"
     ]
    }
   ],
   "source": [
    "i = 0\n",
    "while(i!=len(x)):\n",
    "    print(x[i])\n",
    "    i = i+1"
   ]
  },
  {
   "cell_type": "code",
   "execution_count": 28,
   "metadata": {},
   "outputs": [
    {
     "data": {
      "text/plain": [
       "[1, 2, 2, 3]"
      ]
     },
     "execution_count": 28,
     "metadata": {},
     "output_type": "execute_result"
    }
   ],
   "source": [
    "#Concatenando listas\n",
    "[1,2] + [2,3]"
   ]
  },
  {
   "cell_type": "code",
   "execution_count": 29,
   "metadata": {},
   "outputs": [
    {
     "data": {
      "text/plain": [
       "[2, 2, 2]"
      ]
     },
     "execution_count": 29,
     "metadata": {},
     "output_type": "execute_result"
    }
   ],
   "source": [
    "#Repitiendo los valores de una lista x veces\n",
    "[2]*3"
   ]
  },
  {
   "cell_type": "code",
   "execution_count": 31,
   "metadata": {},
   "outputs": [
    {
     "name": "stdout",
     "output_type": "stream",
     "text": [
      "4\n",
      "1\n"
     ]
    }
   ],
   "source": [
    "b = [3,4,1,2]\n",
    "print(max(b))\n",
    "print(min(b))"
   ]
  },
  {
   "cell_type": "code",
   "execution_count": 36,
   "metadata": {
    "scrolled": true
   },
   "outputs": [
    {
     "name": "stdout",
     "output_type": "stream",
     "text": [
      "True\n",
      "False\n"
     ]
    }
   ],
   "source": [
    "#El operador in permite verificar si un elemento \n",
    "#pertenece a la lista\n",
    "print(3 in b)\n",
    "print(6 in [2,34,5])"
   ]
  },
  {
   "cell_type": "markdown",
   "metadata": {},
   "source": [
    "# Slicing"
   ]
  },
  {
   "cell_type": "code",
   "execution_count": 5,
   "metadata": {},
   "outputs": [
    {
     "name": "stdout",
     "output_type": "stream",
     "text": [
      "T\n",
      "T\n",
      "Th\n",
      "g\n",
      "ri\n",
      "Thi\n",
      "s is a String\n",
      "ing\n"
     ]
    }
   ],
   "source": [
    "x = 'This is a String'\n",
    "print(x[0])\n",
    "print(x[0:1])#Date cuenta que el slicing es exclusivo\n",
    "print(x[0:2])\n",
    "print(x[-1])#Si el indice es negativo, indica que empieza por el final\n",
    "print(x[-4:-2])\n",
    "print(x[:3])#Desde el inicio hasta la posición 2\n",
    "print(x[3:])\n",
    "print(x[-3:])"
   ]
  },
  {
   "cell_type": "code",
   "execution_count": 45,
   "metadata": {},
   "outputs": [
    {
     "name": "stdout",
     "output_type": "stream",
     "text": [
      "Christopher Brooks\n",
      "ChristopherChristopherChristopher\n",
      "True\n"
     ]
    }
   ],
   "source": [
    "firstname = 'Christopher'\n",
    "lastname = 'Brooks'\n",
    "print(firstname+' '+lastname)\n",
    "print(firstname*3)\n",
    "print('Chris' in firstname)"
   ]
  },
  {
   "cell_type": "code",
   "execution_count": 9,
   "metadata": {},
   "outputs": [
    {
     "name": "stdout",
     "output_type": "stream",
     "text": [
      "Andres\n",
      "Sanchez\n"
     ]
    }
   ],
   "source": [
    "firstname = 'Andres Felipe Quintero Sanchez'.split(' ')[0]\n",
    "lastname = 'Andres Felipe Quintero Sanchez'.split(' ')[-1]\n",
    "print(firstname)\n",
    "print(lastname)"
   ]
  },
  {
   "cell_type": "code",
   "execution_count": 8,
   "metadata": {},
   "outputs": [
    {
     "name": "stdout",
     "output_type": "stream",
     "text": [
      "andres@correo.com\n",
      "andres@correo.com\n",
      "felipe@correo.com\n",
      "af@correo.com\n",
      "None\n",
      "-----------\n",
      "andres@correo.com\n",
      "felipe@correo.com\n",
      "af@correo.com\n",
      "None\n",
      "-----------\n",
      "<class 'str'>\n",
      "andres@correo.com\n",
      "<class 'str'>\n",
      "felipe@correo.com\n",
      "<class 'str'>\n",
      "af@correo.com\n",
      "<class 'str'>\n",
      "None\n"
     ]
    }
   ],
   "source": [
    "x = {'Andres Quintero':'andres@correo.com', 'Felipe Sanchez':'felipe@correo.com'}\n",
    "print(x['Andres Quintero'])\n",
    "x['Felipe Andres'] = 'af@correo.com'\n",
    "x['randomValue'] = None\n",
    "#To remove an item just use del(x[key])\n",
    "for names in x:\n",
    "    print(x[names])\n",
    "print('-----------')\n",
    "for v in x.values():\n",
    "    print(v)\n",
    "print('-----------')\n",
    "for name, val in x.items():\n",
    "    print(name)\n",
    "    print(val)"
   ]
  },
  {
   "cell_type": "markdown",
   "metadata": {},
   "source": [
    "# Unpacking values "
   ]
  },
  {
   "cell_type": "code",
   "execution_count": 59,
   "metadata": {},
   "outputs": [
    {
     "name": "stdout",
     "output_type": "stream",
     "text": [
      "Andres\n",
      "Quintero\n",
      "correo@correo.com\n"
     ]
    }
   ],
   "source": [
    "x = ('Andres', 'Quintero', 'correo@correo.com')\n",
    "fname, lname, email = x;\n",
    "print(fname)\n",
    "print(lname)\n",
    "print(email)"
   ]
  },
  {
   "cell_type": "markdown",
   "metadata": {},
   "source": [
    "# Swaping Values"
   ]
  },
  {
   "cell_type": "code",
   "execution_count": 7,
   "metadata": {},
   "outputs": [
    {
     "name": "stdout",
     "output_type": "stream",
     "text": [
      "[4, 5, 6] [1, 2, 3]\n"
     ]
    }
   ],
   "source": [
    "x = [1,2,3]\n",
    "y = [4,5,6]\n",
    "x ,y = y , x\n",
    "print(x,y)"
   ]
  },
  {
   "cell_type": "markdown",
   "metadata": {},
   "source": [
    "# Using Format"
   ]
  },
  {
   "cell_type": "code",
   "execution_count": 12,
   "metadata": {},
   "outputs": [
    {
     "name": "stdout",
     "output_type": "stream",
     "text": [
      "Andres bought 4 item(s) at a price of 3.21 each for a total of 12.84\n"
     ]
    }
   ],
   "source": [
    "#Format tiene varios usos además de este\n",
    "sales_record = {'price':3.21, 'num_items':4, 'person':'Andres'}\n",
    "#Se declara un string indicando donde van a ir las variables a insertar\n",
    "sales_statement= '{} bought {} item(s) at a price of {} each for a total of {}'\n",
    "print(sales_statement.format(sales_record['person'], sales_record['num_items'], \n",
    "                             sales_record['price'], sales_record['num_items']*sales_record['price']))"
   ]
  },
  {
   "cell_type": "markdown",
   "metadata": {},
   "source": [
    "# Date and Time"
   ]
  },
  {
   "cell_type": "code",
   "execution_count": 2,
   "metadata": {},
   "outputs": [
    {
     "data": {
      "text/plain": [
       "1600228639.0226762"
      ]
     },
     "execution_count": 2,
     "metadata": {},
     "output_type": "execute_result"
    }
   ],
   "source": [
    "import datetime as dt\n",
    "import time as tm\n",
    "\n",
    "tm.time() #El tiempo desde enero de 1970"
   ]
  },
  {
   "cell_type": "code",
   "execution_count": 4,
   "metadata": {},
   "outputs": [
    {
     "data": {
      "text/plain": [
       "datetime.datetime(2020, 9, 15, 22, 59, 27, 279617)"
      ]
     },
     "execution_count": 4,
     "metadata": {},
     "output_type": "execute_result"
    }
   ],
   "source": [
    "dtnow = dt.datetime.fromtimestamp(tm.time())\n",
    "dtnow"
   ]
  },
  {
   "cell_type": "code",
   "execution_count": 6,
   "metadata": {},
   "outputs": [
    {
     "data": {
      "text/plain": [
       "(2020, 9, 15, 22, 59, 27)"
      ]
     },
     "execution_count": 6,
     "metadata": {},
     "output_type": "execute_result"
    }
   ],
   "source": [
    "dtnow.year, dtnow.month, dtnow.day, dtnow.hour, dtnow.minute, dtnow.second"
   ]
  },
  {
   "cell_type": "code",
   "execution_count": 10,
   "metadata": {},
   "outputs": [
    {
     "data": {
      "text/plain": [
       "datetime.date(2020, 6, 7)"
      ]
     },
     "execution_count": 10,
     "metadata": {},
     "output_type": "execute_result"
    }
   ],
   "source": [
    "delta = dt.timedelta(days=100)\n",
    "today = dt.date.today()\n",
    "today-delta"
   ]
  },
  {
   "cell_type": "code",
   "execution_count": 11,
   "metadata": {},
   "outputs": [
    {
     "data": {
      "text/plain": [
       "True"
      ]
     },
     "execution_count": 11,
     "metadata": {},
     "output_type": "execute_result"
    }
   ],
   "source": [
    "today > today-delta"
   ]
  },
  {
   "cell_type": "markdown",
   "metadata": {},
   "source": [
    "# Map function"
   ]
  },
  {
   "cell_type": "code",
   "execution_count": 15,
   "metadata": {},
   "outputs": [
    {
     "data": {
      "text/plain": [
       "['Dr. Quintero', 'Dr. lastname', 'Dr. Collins-Thompson', 'Dr. peanut']"
      ]
     },
     "execution_count": 15,
     "metadata": {},
     "output_type": "execute_result"
    }
   ],
   "source": [
    "people = ['Dr. Andres Quintero', 'Dr. whatever lastname', 'Dr. Kevyn Collins-Thompson', 'Dr. name peanut']\n",
    "\n",
    "def split_title_and_name(person):\n",
    "    name = person.split()[0]\n",
    "    lastname = person.split()[-1]\n",
    "    return '{} {}'.format(name,lastname)\n",
    "list(map(split_title_and_name,people))"
   ]
  },
  {
   "cell_type": "markdown",
   "metadata": {},
   "source": [
    "# Lambda Expressions"
   ]
  },
  {
   "cell_type": "code",
   "execution_count": 17,
   "metadata": {},
   "outputs": [
    {
     "name": "stdout",
     "output_type": "stream",
     "text": [
      "True\n",
      "True\n",
      "True\n",
      "True\n"
     ]
    },
    {
     "data": {
      "text/plain": [
       "True"
      ]
     },
     "execution_count": 17,
     "metadata": {},
     "output_type": "execute_result"
    }
   ],
   "source": [
    "people = ['Dr. Andres Quintero', 'Dr. whatever lastname', 'Dr. Kevyn Collins-Thompson', 'Dr. name peanut']\n",
    "\n",
    "def split_title_and_name(person):\n",
    "    return person.split()[0]+' '+person.split()[-1]\n",
    "for person in people:\n",
    "    print(split_title_and_name(person) == (lambda x: x.split()[0]+' '+x.split()[-1])(person))\n",
    "\n",
    "list(map(split_title_and_name,people)) == list(map(lambda t: t.split()[0]+' '+t.split()[-1],people))"
   ]
  },
  {
   "cell_type": "markdown",
   "metadata": {},
   "source": [
    "# List Comprehensions"
   ]
  },
  {
   "cell_type": "code",
   "execution_count": 18,
   "metadata": {},
   "outputs": [
    {
     "data": {
      "text/plain": [
       "True"
      ]
     },
     "execution_count": 18,
     "metadata": {},
     "output_type": "execute_result"
    }
   ],
   "source": [
    "def times_tables():\n",
    "    lst= []\n",
    "    for i in range(0,10):\n",
    "        for j in range(0,10):\n",
    "            lst.append(i*j)\n",
    "    return lst\n",
    "times_tables() == [i*j for i in range(0,10) for j in range(0,10)]"
   ]
  },
  {
   "cell_type": "code",
   "execution_count": 1,
   "metadata": {},
   "outputs": [
    {
     "data": {
      "text/plain": [
       "['aa00',\n",
       " 'aa01',\n",
       " 'aa02',\n",
       " 'aa03',\n",
       " 'aa04',\n",
       " 'aa05',\n",
       " 'aa06',\n",
       " 'aa07',\n",
       " 'aa08',\n",
       " 'aa09',\n",
       " 'aa10',\n",
       " 'aa11',\n",
       " 'aa12',\n",
       " 'aa13',\n",
       " 'aa14',\n",
       " 'aa15',\n",
       " 'aa16',\n",
       " 'aa17',\n",
       " 'aa18',\n",
       " 'aa19',\n",
       " 'aa20',\n",
       " 'aa21',\n",
       " 'aa22',\n",
       " 'aa23',\n",
       " 'aa24',\n",
       " 'aa25',\n",
       " 'aa26',\n",
       " 'aa27',\n",
       " 'aa28',\n",
       " 'aa29',\n",
       " 'aa30',\n",
       " 'aa31',\n",
       " 'aa32',\n",
       " 'aa33',\n",
       " 'aa34',\n",
       " 'aa35',\n",
       " 'aa36',\n",
       " 'aa37',\n",
       " 'aa38',\n",
       " 'aa39',\n",
       " 'aa40',\n",
       " 'aa41',\n",
       " 'aa42',\n",
       " 'aa43',\n",
       " 'aa44',\n",
       " 'aa45',\n",
       " 'aa46',\n",
       " 'aa47',\n",
       " 'aa48',\n",
       " 'aa49',\n",
       " 'aa50',\n",
       " 'aa51',\n",
       " 'aa52',\n",
       " 'aa53',\n",
       " 'aa54',\n",
       " 'aa55',\n",
       " 'aa56',\n",
       " 'aa57',\n",
       " 'aa58',\n",
       " 'aa59',\n",
       " 'aa60',\n",
       " 'aa61',\n",
       " 'aa62',\n",
       " 'aa63',\n",
       " 'aa64',\n",
       " 'aa65',\n",
       " 'aa66',\n",
       " 'aa67',\n",
       " 'aa68',\n",
       " 'aa69',\n",
       " 'aa70',\n",
       " 'aa71',\n",
       " 'aa72',\n",
       " 'aa73',\n",
       " 'aa74',\n",
       " 'aa75',\n",
       " 'aa76',\n",
       " 'aa77',\n",
       " 'aa78',\n",
       " 'aa79',\n",
       " 'aa80',\n",
       " 'aa81',\n",
       " 'aa82',\n",
       " 'aa83',\n",
       " 'aa84',\n",
       " 'aa85',\n",
       " 'aa86',\n",
       " 'aa87',\n",
       " 'aa88',\n",
       " 'aa89',\n",
       " 'aa90',\n",
       " 'aa91',\n",
       " 'aa92',\n",
       " 'aa93',\n",
       " 'aa94',\n",
       " 'aa95',\n",
       " 'aa96',\n",
       " 'aa97',\n",
       " 'aa98',\n",
       " 'aa99',\n",
       " 'ab00',\n",
       " 'ab01',\n",
       " 'ab02',\n",
       " 'ab03',\n",
       " 'ab04',\n",
       " 'ab05',\n",
       " 'ab06',\n",
       " 'ab07',\n",
       " 'ab08',\n",
       " 'ab09',\n",
       " 'ab10',\n",
       " 'ab11',\n",
       " 'ab12',\n",
       " 'ab13',\n",
       " 'ab14',\n",
       " 'ab15',\n",
       " 'ab16',\n",
       " 'ab17',\n",
       " 'ab18',\n",
       " 'ab19',\n",
       " 'ab20',\n",
       " 'ab21',\n",
       " 'ab22',\n",
       " 'ab23',\n",
       " 'ab24',\n",
       " 'ab25',\n",
       " 'ab26',\n",
       " 'ab27',\n",
       " 'ab28',\n",
       " 'ab29',\n",
       " 'ab30',\n",
       " 'ab31',\n",
       " 'ab32',\n",
       " 'ab33',\n",
       " 'ab34',\n",
       " 'ab35',\n",
       " 'ab36',\n",
       " 'ab37',\n",
       " 'ab38',\n",
       " 'ab39',\n",
       " 'ab40',\n",
       " 'ab41',\n",
       " 'ab42',\n",
       " 'ab43',\n",
       " 'ab44',\n",
       " 'ab45',\n",
       " 'ab46',\n",
       " 'ab47',\n",
       " 'ab48',\n",
       " 'ab49',\n",
       " 'ab50',\n",
       " 'ab51',\n",
       " 'ab52',\n",
       " 'ab53',\n",
       " 'ab54',\n",
       " 'ab55',\n",
       " 'ab56',\n",
       " 'ab57',\n",
       " 'ab58',\n",
       " 'ab59',\n",
       " 'ab60',\n",
       " 'ab61',\n",
       " 'ab62',\n",
       " 'ab63',\n",
       " 'ab64',\n",
       " 'ab65',\n",
       " 'ab66',\n",
       " 'ab67',\n",
       " 'ab68',\n",
       " 'ab69',\n",
       " 'ab70',\n",
       " 'ab71',\n",
       " 'ab72',\n",
       " 'ab73',\n",
       " 'ab74',\n",
       " 'ab75',\n",
       " 'ab76',\n",
       " 'ab77',\n",
       " 'ab78',\n",
       " 'ab79',\n",
       " 'ab80',\n",
       " 'ab81',\n",
       " 'ab82',\n",
       " 'ab83',\n",
       " 'ab84',\n",
       " 'ab85',\n",
       " 'ab86',\n",
       " 'ab87',\n",
       " 'ab88',\n",
       " 'ab89',\n",
       " 'ab90',\n",
       " 'ab91',\n",
       " 'ab92',\n",
       " 'ab93',\n",
       " 'ab94',\n",
       " 'ab95',\n",
       " 'ab96',\n",
       " 'ab97',\n",
       " 'ab98',\n",
       " 'ab99',\n",
       " 'ac00',\n",
       " 'ac01',\n",
       " 'ac02',\n",
       " 'ac03',\n",
       " 'ac04',\n",
       " 'ac05',\n",
       " 'ac06',\n",
       " 'ac07',\n",
       " 'ac08',\n",
       " 'ac09',\n",
       " 'ac10',\n",
       " 'ac11',\n",
       " 'ac12',\n",
       " 'ac13',\n",
       " 'ac14',\n",
       " 'ac15',\n",
       " 'ac16',\n",
       " 'ac17',\n",
       " 'ac18',\n",
       " 'ac19',\n",
       " 'ac20',\n",
       " 'ac21',\n",
       " 'ac22',\n",
       " 'ac23',\n",
       " 'ac24',\n",
       " 'ac25',\n",
       " 'ac26',\n",
       " 'ac27',\n",
       " 'ac28',\n",
       " 'ac29',\n",
       " 'ac30',\n",
       " 'ac31',\n",
       " 'ac32',\n",
       " 'ac33',\n",
       " 'ac34',\n",
       " 'ac35',\n",
       " 'ac36',\n",
       " 'ac37',\n",
       " 'ac38',\n",
       " 'ac39',\n",
       " 'ac40',\n",
       " 'ac41',\n",
       " 'ac42',\n",
       " 'ac43',\n",
       " 'ac44',\n",
       " 'ac45',\n",
       " 'ac46',\n",
       " 'ac47',\n",
       " 'ac48',\n",
       " 'ac49',\n",
       " 'ac50',\n",
       " 'ac51',\n",
       " 'ac52',\n",
       " 'ac53',\n",
       " 'ac54',\n",
       " 'ac55',\n",
       " 'ac56',\n",
       " 'ac57',\n",
       " 'ac58',\n",
       " 'ac59',\n",
       " 'ac60',\n",
       " 'ac61',\n",
       " 'ac62',\n",
       " 'ac63',\n",
       " 'ac64',\n",
       " 'ac65',\n",
       " 'ac66',\n",
       " 'ac67',\n",
       " 'ac68',\n",
       " 'ac69',\n",
       " 'ac70',\n",
       " 'ac71',\n",
       " 'ac72',\n",
       " 'ac73',\n",
       " 'ac74',\n",
       " 'ac75',\n",
       " 'ac76',\n",
       " 'ac77',\n",
       " 'ac78',\n",
       " 'ac79',\n",
       " 'ac80',\n",
       " 'ac81',\n",
       " 'ac82',\n",
       " 'ac83',\n",
       " 'ac84',\n",
       " 'ac85',\n",
       " 'ac86',\n",
       " 'ac87',\n",
       " 'ac88',\n",
       " 'ac89',\n",
       " 'ac90',\n",
       " 'ac91',\n",
       " 'ac92',\n",
       " 'ac93',\n",
       " 'ac94',\n",
       " 'ac95',\n",
       " 'ac96',\n",
       " 'ac97',\n",
       " 'ac98',\n",
       " 'ac99',\n",
       " 'ad00',\n",
       " 'ad01',\n",
       " 'ad02',\n",
       " 'ad03',\n",
       " 'ad04',\n",
       " 'ad05',\n",
       " 'ad06',\n",
       " 'ad07',\n",
       " 'ad08',\n",
       " 'ad09',\n",
       " 'ad10',\n",
       " 'ad11',\n",
       " 'ad12',\n",
       " 'ad13',\n",
       " 'ad14',\n",
       " 'ad15',\n",
       " 'ad16',\n",
       " 'ad17',\n",
       " 'ad18',\n",
       " 'ad19',\n",
       " 'ad20',\n",
       " 'ad21',\n",
       " 'ad22',\n",
       " 'ad23',\n",
       " 'ad24',\n",
       " 'ad25',\n",
       " 'ad26',\n",
       " 'ad27',\n",
       " 'ad28',\n",
       " 'ad29',\n",
       " 'ad30',\n",
       " 'ad31',\n",
       " 'ad32',\n",
       " 'ad33',\n",
       " 'ad34',\n",
       " 'ad35',\n",
       " 'ad36',\n",
       " 'ad37',\n",
       " 'ad38',\n",
       " 'ad39',\n",
       " 'ad40',\n",
       " 'ad41',\n",
       " 'ad42',\n",
       " 'ad43',\n",
       " 'ad44',\n",
       " 'ad45',\n",
       " 'ad46',\n",
       " 'ad47',\n",
       " 'ad48',\n",
       " 'ad49',\n",
       " 'ad50',\n",
       " 'ad51',\n",
       " 'ad52',\n",
       " 'ad53',\n",
       " 'ad54',\n",
       " 'ad55',\n",
       " 'ad56',\n",
       " 'ad57',\n",
       " 'ad58',\n",
       " 'ad59',\n",
       " 'ad60',\n",
       " 'ad61',\n",
       " 'ad62',\n",
       " 'ad63',\n",
       " 'ad64',\n",
       " 'ad65',\n",
       " 'ad66',\n",
       " 'ad67',\n",
       " 'ad68',\n",
       " 'ad69',\n",
       " 'ad70',\n",
       " 'ad71',\n",
       " 'ad72',\n",
       " 'ad73',\n",
       " 'ad74',\n",
       " 'ad75',\n",
       " 'ad76',\n",
       " 'ad77',\n",
       " 'ad78',\n",
       " 'ad79',\n",
       " 'ad80',\n",
       " 'ad81',\n",
       " 'ad82',\n",
       " 'ad83',\n",
       " 'ad84',\n",
       " 'ad85',\n",
       " 'ad86',\n",
       " 'ad87',\n",
       " 'ad88',\n",
       " 'ad89',\n",
       " 'ad90',\n",
       " 'ad91',\n",
       " 'ad92',\n",
       " 'ad93',\n",
       " 'ad94',\n",
       " 'ad95',\n",
       " 'ad96',\n",
       " 'ad97',\n",
       " 'ad98',\n",
       " 'ad99',\n",
       " 'ae00',\n",
       " 'ae01',\n",
       " 'ae02',\n",
       " 'ae03',\n",
       " 'ae04',\n",
       " 'ae05',\n",
       " 'ae06',\n",
       " 'ae07',\n",
       " 'ae08',\n",
       " 'ae09',\n",
       " 'ae10',\n",
       " 'ae11',\n",
       " 'ae12',\n",
       " 'ae13',\n",
       " 'ae14',\n",
       " 'ae15',\n",
       " 'ae16',\n",
       " 'ae17',\n",
       " 'ae18',\n",
       " 'ae19',\n",
       " 'ae20',\n",
       " 'ae21',\n",
       " 'ae22',\n",
       " 'ae23',\n",
       " 'ae24',\n",
       " 'ae25',\n",
       " 'ae26',\n",
       " 'ae27',\n",
       " 'ae28',\n",
       " 'ae29',\n",
       " 'ae30',\n",
       " 'ae31',\n",
       " 'ae32',\n",
       " 'ae33',\n",
       " 'ae34',\n",
       " 'ae35',\n",
       " 'ae36',\n",
       " 'ae37',\n",
       " 'ae38',\n",
       " 'ae39',\n",
       " 'ae40',\n",
       " 'ae41',\n",
       " 'ae42',\n",
       " 'ae43',\n",
       " 'ae44',\n",
       " 'ae45',\n",
       " 'ae46',\n",
       " 'ae47',\n",
       " 'ae48',\n",
       " 'ae49',\n",
       " 'ae50',\n",
       " 'ae51',\n",
       " 'ae52',\n",
       " 'ae53',\n",
       " 'ae54',\n",
       " 'ae55',\n",
       " 'ae56',\n",
       " 'ae57',\n",
       " 'ae58',\n",
       " 'ae59',\n",
       " 'ae60',\n",
       " 'ae61',\n",
       " 'ae62',\n",
       " 'ae63',\n",
       " 'ae64',\n",
       " 'ae65',\n",
       " 'ae66',\n",
       " 'ae67',\n",
       " 'ae68',\n",
       " 'ae69',\n",
       " 'ae70',\n",
       " 'ae71',\n",
       " 'ae72',\n",
       " 'ae73',\n",
       " 'ae74',\n",
       " 'ae75',\n",
       " 'ae76',\n",
       " 'ae77',\n",
       " 'ae78',\n",
       " 'ae79',\n",
       " 'ae80',\n",
       " 'ae81',\n",
       " 'ae82',\n",
       " 'ae83',\n",
       " 'ae84',\n",
       " 'ae85',\n",
       " 'ae86',\n",
       " 'ae87',\n",
       " 'ae88',\n",
       " 'ae89',\n",
       " 'ae90',\n",
       " 'ae91',\n",
       " 'ae92',\n",
       " 'ae93',\n",
       " 'ae94',\n",
       " 'ae95',\n",
       " 'ae96',\n",
       " 'ae97',\n",
       " 'ae98',\n",
       " 'ae99',\n",
       " 'af00',\n",
       " 'af01',\n",
       " 'af02',\n",
       " 'af03',\n",
       " 'af04',\n",
       " 'af05',\n",
       " 'af06',\n",
       " 'af07',\n",
       " 'af08',\n",
       " 'af09',\n",
       " 'af10',\n",
       " 'af11',\n",
       " 'af12',\n",
       " 'af13',\n",
       " 'af14',\n",
       " 'af15',\n",
       " 'af16',\n",
       " 'af17',\n",
       " 'af18',\n",
       " 'af19',\n",
       " 'af20',\n",
       " 'af21',\n",
       " 'af22',\n",
       " 'af23',\n",
       " 'af24',\n",
       " 'af25',\n",
       " 'af26',\n",
       " 'af27',\n",
       " 'af28',\n",
       " 'af29',\n",
       " 'af30',\n",
       " 'af31',\n",
       " 'af32',\n",
       " 'af33',\n",
       " 'af34',\n",
       " 'af35',\n",
       " 'af36',\n",
       " 'af37',\n",
       " 'af38',\n",
       " 'af39',\n",
       " 'af40',\n",
       " 'af41',\n",
       " 'af42',\n",
       " 'af43',\n",
       " 'af44',\n",
       " 'af45',\n",
       " 'af46',\n",
       " 'af47',\n",
       " 'af48',\n",
       " 'af49',\n",
       " 'af50',\n",
       " 'af51',\n",
       " 'af52',\n",
       " 'af53',\n",
       " 'af54',\n",
       " 'af55',\n",
       " 'af56',\n",
       " 'af57',\n",
       " 'af58',\n",
       " 'af59',\n",
       " 'af60',\n",
       " 'af61',\n",
       " 'af62',\n",
       " 'af63',\n",
       " 'af64',\n",
       " 'af65',\n",
       " 'af66',\n",
       " 'af67',\n",
       " 'af68',\n",
       " 'af69',\n",
       " 'af70',\n",
       " 'af71',\n",
       " 'af72',\n",
       " 'af73',\n",
       " 'af74',\n",
       " 'af75',\n",
       " 'af76',\n",
       " 'af77',\n",
       " 'af78',\n",
       " 'af79',\n",
       " 'af80',\n",
       " 'af81',\n",
       " 'af82',\n",
       " 'af83',\n",
       " 'af84',\n",
       " 'af85',\n",
       " 'af86',\n",
       " 'af87',\n",
       " 'af88',\n",
       " 'af89',\n",
       " 'af90',\n",
       " 'af91',\n",
       " 'af92',\n",
       " 'af93',\n",
       " 'af94',\n",
       " 'af95',\n",
       " 'af96',\n",
       " 'af97',\n",
       " 'af98',\n",
       " 'af99',\n",
       " 'ag00',\n",
       " 'ag01',\n",
       " 'ag02',\n",
       " 'ag03',\n",
       " 'ag04',\n",
       " 'ag05',\n",
       " 'ag06',\n",
       " 'ag07',\n",
       " 'ag08',\n",
       " 'ag09',\n",
       " 'ag10',\n",
       " 'ag11',\n",
       " 'ag12',\n",
       " 'ag13',\n",
       " 'ag14',\n",
       " 'ag15',\n",
       " 'ag16',\n",
       " 'ag17',\n",
       " 'ag18',\n",
       " 'ag19',\n",
       " 'ag20',\n",
       " 'ag21',\n",
       " 'ag22',\n",
       " 'ag23',\n",
       " 'ag24',\n",
       " 'ag25',\n",
       " 'ag26',\n",
       " 'ag27',\n",
       " 'ag28',\n",
       " 'ag29',\n",
       " 'ag30',\n",
       " 'ag31',\n",
       " 'ag32',\n",
       " 'ag33',\n",
       " 'ag34',\n",
       " 'ag35',\n",
       " 'ag36',\n",
       " 'ag37',\n",
       " 'ag38',\n",
       " 'ag39',\n",
       " 'ag40',\n",
       " 'ag41',\n",
       " 'ag42',\n",
       " 'ag43',\n",
       " 'ag44',\n",
       " 'ag45',\n",
       " 'ag46',\n",
       " 'ag47',\n",
       " 'ag48',\n",
       " 'ag49',\n",
       " 'ag50',\n",
       " 'ag51',\n",
       " 'ag52',\n",
       " 'ag53',\n",
       " 'ag54',\n",
       " 'ag55',\n",
       " 'ag56',\n",
       " 'ag57',\n",
       " 'ag58',\n",
       " 'ag59',\n",
       " 'ag60',\n",
       " 'ag61',\n",
       " 'ag62',\n",
       " 'ag63',\n",
       " 'ag64',\n",
       " 'ag65',\n",
       " 'ag66',\n",
       " 'ag67',\n",
       " 'ag68',\n",
       " 'ag69',\n",
       " 'ag70',\n",
       " 'ag71',\n",
       " 'ag72',\n",
       " 'ag73',\n",
       " 'ag74',\n",
       " 'ag75',\n",
       " 'ag76',\n",
       " 'ag77',\n",
       " 'ag78',\n",
       " 'ag79',\n",
       " 'ag80',\n",
       " 'ag81',\n",
       " 'ag82',\n",
       " 'ag83',\n",
       " 'ag84',\n",
       " 'ag85',\n",
       " 'ag86',\n",
       " 'ag87',\n",
       " 'ag88',\n",
       " 'ag89',\n",
       " 'ag90',\n",
       " 'ag91',\n",
       " 'ag92',\n",
       " 'ag93',\n",
       " 'ag94',\n",
       " 'ag95',\n",
       " 'ag96',\n",
       " 'ag97',\n",
       " 'ag98',\n",
       " 'ag99',\n",
       " 'ah00',\n",
       " 'ah01',\n",
       " 'ah02',\n",
       " 'ah03',\n",
       " 'ah04',\n",
       " 'ah05',\n",
       " 'ah06',\n",
       " 'ah07',\n",
       " 'ah08',\n",
       " 'ah09',\n",
       " 'ah10',\n",
       " 'ah11',\n",
       " 'ah12',\n",
       " 'ah13',\n",
       " 'ah14',\n",
       " 'ah15',\n",
       " 'ah16',\n",
       " 'ah17',\n",
       " 'ah18',\n",
       " 'ah19',\n",
       " 'ah20',\n",
       " 'ah21',\n",
       " 'ah22',\n",
       " 'ah23',\n",
       " 'ah24',\n",
       " 'ah25',\n",
       " 'ah26',\n",
       " 'ah27',\n",
       " 'ah28',\n",
       " 'ah29',\n",
       " 'ah30',\n",
       " 'ah31',\n",
       " 'ah32',\n",
       " 'ah33',\n",
       " 'ah34',\n",
       " 'ah35',\n",
       " 'ah36',\n",
       " 'ah37',\n",
       " 'ah38',\n",
       " 'ah39',\n",
       " 'ah40',\n",
       " 'ah41',\n",
       " 'ah42',\n",
       " 'ah43',\n",
       " 'ah44',\n",
       " 'ah45',\n",
       " 'ah46',\n",
       " 'ah47',\n",
       " 'ah48',\n",
       " 'ah49',\n",
       " 'ah50',\n",
       " 'ah51',\n",
       " 'ah52',\n",
       " 'ah53',\n",
       " 'ah54',\n",
       " 'ah55',\n",
       " 'ah56',\n",
       " 'ah57',\n",
       " 'ah58',\n",
       " 'ah59',\n",
       " 'ah60',\n",
       " 'ah61',\n",
       " 'ah62',\n",
       " 'ah63',\n",
       " 'ah64',\n",
       " 'ah65',\n",
       " 'ah66',\n",
       " 'ah67',\n",
       " 'ah68',\n",
       " 'ah69',\n",
       " 'ah70',\n",
       " 'ah71',\n",
       " 'ah72',\n",
       " 'ah73',\n",
       " 'ah74',\n",
       " 'ah75',\n",
       " 'ah76',\n",
       " 'ah77',\n",
       " 'ah78',\n",
       " 'ah79',\n",
       " 'ah80',\n",
       " 'ah81',\n",
       " 'ah82',\n",
       " 'ah83',\n",
       " 'ah84',\n",
       " 'ah85',\n",
       " 'ah86',\n",
       " 'ah87',\n",
       " 'ah88',\n",
       " 'ah89',\n",
       " 'ah90',\n",
       " 'ah91',\n",
       " 'ah92',\n",
       " 'ah93',\n",
       " 'ah94',\n",
       " 'ah95',\n",
       " 'ah96',\n",
       " 'ah97',\n",
       " 'ah98',\n",
       " 'ah99',\n",
       " 'ai00',\n",
       " 'ai01',\n",
       " 'ai02',\n",
       " 'ai03',\n",
       " 'ai04',\n",
       " 'ai05',\n",
       " 'ai06',\n",
       " 'ai07',\n",
       " 'ai08',\n",
       " 'ai09',\n",
       " 'ai10',\n",
       " 'ai11',\n",
       " 'ai12',\n",
       " 'ai13',\n",
       " 'ai14',\n",
       " 'ai15',\n",
       " 'ai16',\n",
       " 'ai17',\n",
       " 'ai18',\n",
       " 'ai19',\n",
       " 'ai20',\n",
       " 'ai21',\n",
       " 'ai22',\n",
       " 'ai23',\n",
       " 'ai24',\n",
       " 'ai25',\n",
       " 'ai26',\n",
       " 'ai27',\n",
       " 'ai28',\n",
       " 'ai29',\n",
       " 'ai30',\n",
       " 'ai31',\n",
       " 'ai32',\n",
       " 'ai33',\n",
       " 'ai34',\n",
       " 'ai35',\n",
       " 'ai36',\n",
       " 'ai37',\n",
       " 'ai38',\n",
       " 'ai39',\n",
       " 'ai40',\n",
       " 'ai41',\n",
       " 'ai42',\n",
       " 'ai43',\n",
       " 'ai44',\n",
       " 'ai45',\n",
       " 'ai46',\n",
       " 'ai47',\n",
       " 'ai48',\n",
       " 'ai49',\n",
       " 'ai50',\n",
       " 'ai51',\n",
       " 'ai52',\n",
       " 'ai53',\n",
       " 'ai54',\n",
       " 'ai55',\n",
       " 'ai56',\n",
       " 'ai57',\n",
       " 'ai58',\n",
       " 'ai59',\n",
       " 'ai60',\n",
       " 'ai61',\n",
       " 'ai62',\n",
       " 'ai63',\n",
       " 'ai64',\n",
       " 'ai65',\n",
       " 'ai66',\n",
       " 'ai67',\n",
       " 'ai68',\n",
       " 'ai69',\n",
       " 'ai70',\n",
       " 'ai71',\n",
       " 'ai72',\n",
       " 'ai73',\n",
       " 'ai74',\n",
       " 'ai75',\n",
       " 'ai76',\n",
       " 'ai77',\n",
       " 'ai78',\n",
       " 'ai79',\n",
       " 'ai80',\n",
       " 'ai81',\n",
       " 'ai82',\n",
       " 'ai83',\n",
       " 'ai84',\n",
       " 'ai85',\n",
       " 'ai86',\n",
       " 'ai87',\n",
       " 'ai88',\n",
       " 'ai89',\n",
       " 'ai90',\n",
       " 'ai91',\n",
       " 'ai92',\n",
       " 'ai93',\n",
       " 'ai94',\n",
       " 'ai95',\n",
       " 'ai96',\n",
       " 'ai97',\n",
       " 'ai98',\n",
       " 'ai99',\n",
       " 'aj00',\n",
       " 'aj01',\n",
       " 'aj02',\n",
       " 'aj03',\n",
       " 'aj04',\n",
       " 'aj05',\n",
       " 'aj06',\n",
       " 'aj07',\n",
       " 'aj08',\n",
       " 'aj09',\n",
       " 'aj10',\n",
       " 'aj11',\n",
       " 'aj12',\n",
       " 'aj13',\n",
       " 'aj14',\n",
       " 'aj15',\n",
       " 'aj16',\n",
       " 'aj17',\n",
       " 'aj18',\n",
       " 'aj19',\n",
       " 'aj20',\n",
       " 'aj21',\n",
       " 'aj22',\n",
       " 'aj23',\n",
       " 'aj24',\n",
       " 'aj25',\n",
       " 'aj26',\n",
       " 'aj27',\n",
       " 'aj28',\n",
       " 'aj29',\n",
       " 'aj30',\n",
       " 'aj31',\n",
       " 'aj32',\n",
       " 'aj33',\n",
       " 'aj34',\n",
       " 'aj35',\n",
       " 'aj36',\n",
       " 'aj37',\n",
       " 'aj38',\n",
       " 'aj39',\n",
       " 'aj40',\n",
       " 'aj41',\n",
       " 'aj42',\n",
       " 'aj43',\n",
       " 'aj44',\n",
       " 'aj45',\n",
       " 'aj46',\n",
       " 'aj47',\n",
       " 'aj48',\n",
       " 'aj49',\n",
       " 'aj50',\n",
       " 'aj51',\n",
       " 'aj52',\n",
       " 'aj53',\n",
       " 'aj54',\n",
       " 'aj55',\n",
       " 'aj56',\n",
       " 'aj57',\n",
       " 'aj58',\n",
       " 'aj59',\n",
       " 'aj60',\n",
       " 'aj61',\n",
       " 'aj62',\n",
       " 'aj63',\n",
       " 'aj64',\n",
       " 'aj65',\n",
       " 'aj66',\n",
       " 'aj67',\n",
       " 'aj68',\n",
       " 'aj69',\n",
       " 'aj70',\n",
       " 'aj71',\n",
       " 'aj72',\n",
       " 'aj73',\n",
       " 'aj74',\n",
       " 'aj75',\n",
       " 'aj76',\n",
       " 'aj77',\n",
       " 'aj78',\n",
       " 'aj79',\n",
       " 'aj80',\n",
       " 'aj81',\n",
       " 'aj82',\n",
       " 'aj83',\n",
       " 'aj84',\n",
       " 'aj85',\n",
       " 'aj86',\n",
       " 'aj87',\n",
       " 'aj88',\n",
       " 'aj89',\n",
       " 'aj90',\n",
       " 'aj91',\n",
       " 'aj92',\n",
       " 'aj93',\n",
       " 'aj94',\n",
       " 'aj95',\n",
       " 'aj96',\n",
       " 'aj97',\n",
       " 'aj98',\n",
       " 'aj99',\n",
       " ...]"
      ]
     },
     "execution_count": 1,
     "metadata": {},
     "output_type": "execute_result"
    }
   ],
   "source": [
    "#All possible combinations from the 2 strings (2 letters and 2 numbers)\n",
    "lowercase = 'abcdefghijklmnopqrstuvwxyz'\n",
    "numbers = '0123456789'\n",
    "\n",
    "answer = [i+j+x+y for i in lowercase for j in lowercase for x in numbers for y in numbers]\n",
    "answer\n"
   ]
  },
  {
   "cell_type": "code",
   "execution_count": 9,
   "metadata": {},
   "outputs": [
    {
     "name": "stdout",
     "output_type": "stream",
     "text": [
      "['bedroom', 10.75, 'bathroom', 9.5]\n"
     ]
    }
   ],
   "source": [
    "areas = [\"hallway\", 11.25, \"kitchen\", 18.0, \"living room\", 20.0, \"bedroom\", 10.75, \"bathroom\", 9.50]\n",
    "upstairs = areas[-4:]\n",
    "print(upstairs)"
   ]
  },
  {
   "cell_type": "code",
   "execution_count": null,
   "metadata": {},
   "outputs": [],
   "source": []
  }
 ],
 "metadata": {
  "kernelspec": {
   "display_name": "Python 3",
   "language": "python",
   "name": "python3"
  },
  "language_info": {
   "codemirror_mode": {
    "name": "ipython",
    "version": 3
   },
   "file_extension": ".py",
   "mimetype": "text/x-python",
   "name": "python",
   "nbconvert_exporter": "python",
   "pygments_lexer": "ipython3",
   "version": "3.8.3"
  }
 },
 "nbformat": 4,
 "nbformat_minor": 4
}
