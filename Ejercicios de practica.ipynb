{
 "cells": [
  {
   "cell_type": "code",
   "execution_count": 1,
   "metadata": {},
   "outputs": [
    {
     "name": "stdout",
     "output_type": "stream",
     "text": [
      "Elige tu propio camino\n",
      "Escribe empezar para iniciar el programa: empezar\n",
      "¿Que camino quieres elegir \n",
      "    escribe la opcion con numero\n",
      "    1 - Quiero que me saludes\n",
      "    2 - Deseo multiplicar ya que no se como hacerlo\n",
      "    3 - Quiero salir de este programa \n",
      "3\n",
      "Hasta luego\n"
     ]
    }
   ],
   "source": [
    "print('Elige tu propio camino')\n",
    "inicio = input(\"Escribe empezar para iniciar el programa: \")\n",
    "while(inicio == 'empezar'):\n",
    "    print(\"\"\"¿Que camino quieres elegir \n",
    "    escribe la opcion con numero\n",
    "    1 - Quiero que me saludes\n",
    "    2 - Deseo multiplicar ya que no se como hacerlo\n",
    "    3 - Quiero salir de este programa \"\"\")\n",
    "    opcion = input()\n",
    "    if opcion == '1':\n",
    "        print(\"Hola, Bienvenido\")\n",
    "    elif opcion == '2':\n",
    "        numero1 = float(input('Introduce el valor a multiplicar primero: '))\n",
    "        numero2 = float(input('Introduce el valor a multiplicar segundo: '))\n",
    "        print('El resultado es: ', numero1*numero2)\n",
    "    elif opcion == '3':\n",
    "        print('Hasta luego')\n",
    "        break\n",
    "    else:\n",
    "        print('No se que elegiste, selecciona los numeros de 1 a 3')"
   ]
  },
  {
   "cell_type": "code",
   "execution_count": null,
   "metadata": {},
   "outputs": [],
   "source": []
  }
 ],
 "metadata": {
  "kernelspec": {
   "display_name": "Python 3",
   "language": "python",
   "name": "python3"
  },
  "language_info": {
   "codemirror_mode": {
    "name": "ipython",
    "version": 3
   },
   "file_extension": ".py",
   "mimetype": "text/x-python",
   "name": "python",
   "nbconvert_exporter": "python",
   "pygments_lexer": "ipython3",
   "version": "3.8.3"
  }
 },
 "nbformat": 4,
 "nbformat_minor": 4
}
