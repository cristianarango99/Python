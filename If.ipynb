{
 "cells": [
  {
   "cell_type": "markdown",
   "metadata": {},
   "source": [
    "If = Nos permite tomar dos caminos distintos, ya sea uno o el otro. Decidimos que acciones tomar \"true\""
   ]
  },
  {
   "cell_type": "code",
   "execution_count": 1,
   "metadata": {},
   "outputs": [
    {
     "name": "stdout",
     "output_type": "stream",
     "text": [
      "Imprimo esto porque fue verdadera\n"
     ]
    }
   ],
   "source": [
    "if True:\n",
    "    print('Imprimo esto porque fue verdadera')"
   ]
  },
  {
   "cell_type": "code",
   "execution_count": 5,
   "metadata": {},
   "outputs": [],
   "source": [
    "if False:\n",
    "    print('nada')"
   ]
  },
  {
   "cell_type": "code",
   "execution_count": 7,
   "metadata": {},
   "outputs": [
    {
     "name": "stdout",
     "output_type": "stream",
     "text": [
      "Cristian vale 10\n"
     ]
    }
   ],
   "source": [
    "Cristian = 10\n",
    "if Cristian == 67:\n",
    "     print('Cristian vale 67')\n",
    "if Cristian == 10:\n",
    "     print('Cristian vale 10')"
   ]
  },
  {
   "cell_type": "code",
   "execution_count": 13,
   "metadata": {},
   "outputs": [
    {
     "name": "stdout",
     "output_type": "stream",
     "text": [
      "poca gente\n"
     ]
    }
   ],
   "source": [
    "Fortnite = 70\n",
    "if Fortnite == 100:\n",
    "    print('Mucha gente mi herma')\n",
    "if Fortnite == 70:\n",
    "    print('poca gente')"
   ]
  },
  {
   "cell_type": "code",
   "execution_count": 22,
   "metadata": {},
   "outputs": [],
   "source": [
    "Cristian = 10\n",
    "if Cristian == 67:\n",
    "     print('Cristian vale 67')\n",
    "     if Cristian == 10:\n",
    "         print('Cristian vale 10') #El if mas grande cubre a todo, entonces al no entrar al primer if no existe el segundo if"
   ]
  },
  {
   "cell_type": "code",
   "execution_count": 26,
   "metadata": {},
   "outputs": [],
   "source": [
    "if Cristian == 11 and Cristian == 10:\n",
    "    print('entro') #No entro porque el and es falso uno y otra se deben cumplir"
   ]
  },
  {
   "cell_type": "code",
   "execution_count": 27,
   "metadata": {},
   "outputs": [
    {
     "name": "stdout",
     "output_type": "stream",
     "text": [
      "entro\n"
     ]
    }
   ],
   "source": [
    "if Cristian == 11 or Cristian == 10:\n",
    "    print('entro') #Si entro porque se debe cumplir una o otra"
   ]
  },
  {
   "cell_type": "code",
   "execution_count": null,
   "metadata": {},
   "outputs": [],
   "source": []
  }
 ],
 "metadata": {
  "kernelspec": {
   "display_name": "Python 3",
   "language": "python",
   "name": "python3"
  },
  "language_info": {
   "codemirror_mode": {
    "name": "ipython",
    "version": 3
   },
   "file_extension": ".py",
   "mimetype": "text/x-python",
   "name": "python",
   "nbconvert_exporter": "python",
   "pygments_lexer": "ipython3",
   "version": "3.8.3"
  }
 },
 "nbformat": 4,
 "nbformat_minor": 4
}
