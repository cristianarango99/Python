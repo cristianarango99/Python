{
 "cells": [
  {
   "cell_type": "code",
   "execution_count": 8,
   "metadata": {},
   "outputs": [],
   "source": [
    "cristian = 10"
   ]
  },
  {
   "cell_type": "code",
   "execution_count": 9,
   "metadata": {},
   "outputs": [
    {
     "name": "stdout",
     "output_type": "stream",
     "text": [
      "el resto es 0\n"
     ]
    }
   ],
   "source": [
    "if cristian % 2 == 0:\n",
    "    print ('el resto es 0')\n",
    "else:\n",
    "    print ('el resto no es cero') #Si el numero es par da 0 y si no, no da cero"
   ]
  },
  {
   "cell_type": "code",
   "execution_count": 12,
   "metadata": {},
   "outputs": [
    {
     "name": "stdout",
     "output_type": "stream",
     "text": [
      "No entro a ningun lado\n"
     ]
    }
   ],
   "source": [
    "frase = \"Cristian\"\n",
    "if frase == \"bye\":\n",
    "    print('No te vayas')\n",
    "elif frase == \"hola\":\n",
    "    print('Holiwis')\n",
    "else:\n",
    "    print('No entro a ningun lado')\n",
    "#Elif es un if dentro de otro if"
   ]
  },
  {
   "cell_type": "code",
   "execution_count": 17,
   "metadata": {},
   "outputs": [
    {
     "name": "stdout",
     "output_type": "stream",
     "text": [
      "Coloca la nota:1\n",
      "Perdiste la materia\n"
     ]
    }
   ],
   "source": [
    "final = float(input('Coloca la nota:'))\n",
    "if final >= 9:\n",
    "    print ('Sos un genio')\n",
    "elif final >= 7:\n",
    "    print('Aprobaste')\n",
    "elif final == 6:\n",
    "    print('Casi pasas')\n",
    "elif final <= 5:\n",
    "    print('Perdiste la materia')\n",
    "else:\n",
    "    print('No se donde estudias porque la nota que pusiste no la puedo evaluar')"
   ]
  }
 ],
 "metadata": {
  "kernelspec": {
   "display_name": "Python 3",
   "language": "python",
   "name": "python3"
  },
  "language_info": {
   "codemirror_mode": {
    "name": "ipython",
    "version": 3
   },
   "file_extension": ".py",
   "mimetype": "text/x-python",
   "name": "python",
   "nbconvert_exporter": "python",
   "pygments_lexer": "ipython3",
   "version": "3.8.3"
  }
 },
 "nbformat": 4,
 "nbformat_minor": 4
}
