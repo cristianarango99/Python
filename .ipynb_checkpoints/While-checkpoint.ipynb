{
 "cells": [
  {
   "cell_type": "code",
   "execution_count": 2,
   "metadata": {},
   "outputs": [
    {
     "name": "stdout",
     "output_type": "stream",
     "text": [
      "Estoy iteranado, van 1\n",
      "Estoy iteranado, van 2\n",
      "Estoy iteranado, van 3\n",
      "Estoy iteranado, van 4\n"
     ]
    }
   ],
   "source": [
    "iteracion = 0\n",
    "while iteracion <= 3:\n",
    "    iteracion += 1\n",
    "    print('Estoy iteranado, van', iteracion)"
   ]
  },
  {
   "cell_type": "code",
   "execution_count": 5,
   "metadata": {},
   "outputs": [
    {
     "name": "stdout",
     "output_type": "stream",
     "text": [
      "Imprimo esto porque se termino y es el else\n"
     ]
    }
   ],
   "source": [
    "iteracion = 1\n",
    "while iteracion <= 0:\n",
    "    iteracion += 1\n",
    "    print('Estoy iteranado, van', iteracion)\n",
    "else:\n",
    "    print('Imprimo esto porque se termino y es el else')"
   ]
  },
  {
   "cell_type": "code",
   "execution_count": 8,
   "metadata": {},
   "outputs": [
    {
     "name": "stdout",
     "output_type": "stream",
     "text": [
      "Estoy iteranado, van 2\n"
     ]
    }
   ],
   "source": [
    "#Break es para salir de una y no entrar al else\n",
    "iteracion = 1\n",
    "while iteracion <= 3:\n",
    "    iteracion += 1\n",
    "    print('Estoy iteranado, van', iteracion)\n",
    "    break\n",
    "else:\n",
    "    print('Imprimo esto porque se termino y es el else')"
   ]
  },
  {
   "cell_type": "code",
   "execution_count": 9,
   "metadata": {},
   "outputs": [
    {
     "name": "stdout",
     "output_type": "stream",
     "text": [
      "Estoy iteranado, van 4\n"
     ]
    }
   ],
   "source": [
    "#Mientras iteracion sea menor o igual a 10, sumele uno a interacion..\n",
    "#Si la iteracion es igual a 4 entonces me imprime el if anidado\n",
    "iteracion = 0\n",
    "while iteracion <= 10:\n",
    "    iteracion += 1\n",
    "    if (iteracion == 4):\n",
    "        print('Estoy iteranado, van', iteracion)\n",
    "        break\n",
    "else:\n",
    "    print('Imprimo esto porque se termino y es el else')"
   ]
  },
  {
   "cell_type": "code",
   "execution_count": null,
   "metadata": {},
   "outputs": [],
   "source": []
  }
 ],
 "metadata": {
  "kernelspec": {
   "display_name": "Python 3",
   "language": "python",
   "name": "python3"
  },
  "language_info": {
   "codemirror_mode": {
    "name": "ipython",
    "version": 3
   },
   "file_extension": ".py",
   "mimetype": "text/x-python",
   "name": "python",
   "nbconvert_exporter": "python",
   "pygments_lexer": "ipython3",
   "version": "3.8.3"
  }
 },
 "nbformat": 4,
 "nbformat_minor": 4
}
